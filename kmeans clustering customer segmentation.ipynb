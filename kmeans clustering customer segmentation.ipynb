{
 "cells": [
  {
   "cell_type": "code",
   "execution_count": 1,
   "id": "a5e2c486",
   "metadata": {},
   "outputs": [],
   "source": [
    "import pandas as pd\n",
    "import numpy as np\n",
    "import seaborn as sns\n",
    "import matplotlib.pyplot as plt\n",
    "from sklearn import preprocessing, decomposition\n",
    "from sklearn.decomposition import PCA"
   ]
  },
  {
   "cell_type": "code",
   "execution_count": 2,
   "id": "6c3f862e",
   "metadata": {},
   "outputs": [],
   "source": [
    "train = pd.read_csv(\"C:\\\\Users\\\\Murali krishna\\\\Downloads\\\\archive (2)\\\\Train.csv\")\n",
    "test = pd.read_csv(\"C:\\\\Users\\\\Murali krishna\\\\Downloads\\\\archive (2)\\\\Test.csv\")"
   ]
  },
  {
   "cell_type": "code",
   "execution_count": 3,
   "id": "0190666a",
   "metadata": {},
   "outputs": [
    {
     "data": {
      "text/html": [
       "<div>\n",
       "<style scoped>\n",
       "    .dataframe tbody tr th:only-of-type {\n",
       "        vertical-align: middle;\n",
       "    }\n",
       "\n",
       "    .dataframe tbody tr th {\n",
       "        vertical-align: top;\n",
       "    }\n",
       "\n",
       "    .dataframe thead th {\n",
       "        text-align: right;\n",
       "    }\n",
       "</style>\n",
       "<table border=\"1\" class=\"dataframe\">\n",
       "  <thead>\n",
       "    <tr style=\"text-align: right;\">\n",
       "      <th></th>\n",
       "      <th>ID</th>\n",
       "      <th>Gender</th>\n",
       "      <th>Ever_Married</th>\n",
       "      <th>Age</th>\n",
       "      <th>Graduated</th>\n",
       "      <th>Profession</th>\n",
       "      <th>Work_Experience</th>\n",
       "      <th>Spending_Score</th>\n",
       "      <th>Family_Size</th>\n",
       "      <th>Var_1</th>\n",
       "      <th>Segmentation</th>\n",
       "    </tr>\n",
       "  </thead>\n",
       "  <tbody>\n",
       "    <tr>\n",
       "      <th>0</th>\n",
       "      <td>462809</td>\n",
       "      <td>Male</td>\n",
       "      <td>No</td>\n",
       "      <td>22</td>\n",
       "      <td>No</td>\n",
       "      <td>Healthcare</td>\n",
       "      <td>1.0</td>\n",
       "      <td>Low</td>\n",
       "      <td>4.0</td>\n",
       "      <td>Cat_4</td>\n",
       "      <td>D</td>\n",
       "    </tr>\n",
       "    <tr>\n",
       "      <th>1</th>\n",
       "      <td>462643</td>\n",
       "      <td>Female</td>\n",
       "      <td>Yes</td>\n",
       "      <td>38</td>\n",
       "      <td>Yes</td>\n",
       "      <td>Engineer</td>\n",
       "      <td>NaN</td>\n",
       "      <td>Average</td>\n",
       "      <td>3.0</td>\n",
       "      <td>Cat_4</td>\n",
       "      <td>A</td>\n",
       "    </tr>\n",
       "    <tr>\n",
       "      <th>2</th>\n",
       "      <td>466315</td>\n",
       "      <td>Female</td>\n",
       "      <td>Yes</td>\n",
       "      <td>67</td>\n",
       "      <td>Yes</td>\n",
       "      <td>Engineer</td>\n",
       "      <td>1.0</td>\n",
       "      <td>Low</td>\n",
       "      <td>1.0</td>\n",
       "      <td>Cat_6</td>\n",
       "      <td>B</td>\n",
       "    </tr>\n",
       "    <tr>\n",
       "      <th>3</th>\n",
       "      <td>461735</td>\n",
       "      <td>Male</td>\n",
       "      <td>Yes</td>\n",
       "      <td>67</td>\n",
       "      <td>Yes</td>\n",
       "      <td>Lawyer</td>\n",
       "      <td>0.0</td>\n",
       "      <td>High</td>\n",
       "      <td>2.0</td>\n",
       "      <td>Cat_6</td>\n",
       "      <td>B</td>\n",
       "    </tr>\n",
       "    <tr>\n",
       "      <th>4</th>\n",
       "      <td>462669</td>\n",
       "      <td>Female</td>\n",
       "      <td>Yes</td>\n",
       "      <td>40</td>\n",
       "      <td>Yes</td>\n",
       "      <td>Entertainment</td>\n",
       "      <td>NaN</td>\n",
       "      <td>High</td>\n",
       "      <td>6.0</td>\n",
       "      <td>Cat_6</td>\n",
       "      <td>A</td>\n",
       "    </tr>\n",
       "    <tr>\n",
       "      <th>5</th>\n",
       "      <td>461319</td>\n",
       "      <td>Male</td>\n",
       "      <td>Yes</td>\n",
       "      <td>56</td>\n",
       "      <td>No</td>\n",
       "      <td>Artist</td>\n",
       "      <td>0.0</td>\n",
       "      <td>Average</td>\n",
       "      <td>2.0</td>\n",
       "      <td>Cat_6</td>\n",
       "      <td>C</td>\n",
       "    </tr>\n",
       "    <tr>\n",
       "      <th>6</th>\n",
       "      <td>460156</td>\n",
       "      <td>Male</td>\n",
       "      <td>No</td>\n",
       "      <td>32</td>\n",
       "      <td>Yes</td>\n",
       "      <td>Healthcare</td>\n",
       "      <td>1.0</td>\n",
       "      <td>Low</td>\n",
       "      <td>3.0</td>\n",
       "      <td>Cat_6</td>\n",
       "      <td>C</td>\n",
       "    </tr>\n",
       "    <tr>\n",
       "      <th>7</th>\n",
       "      <td>464347</td>\n",
       "      <td>Female</td>\n",
       "      <td>No</td>\n",
       "      <td>33</td>\n",
       "      <td>Yes</td>\n",
       "      <td>Healthcare</td>\n",
       "      <td>1.0</td>\n",
       "      <td>Low</td>\n",
       "      <td>3.0</td>\n",
       "      <td>Cat_6</td>\n",
       "      <td>D</td>\n",
       "    </tr>\n",
       "    <tr>\n",
       "      <th>8</th>\n",
       "      <td>465015</td>\n",
       "      <td>Female</td>\n",
       "      <td>Yes</td>\n",
       "      <td>61</td>\n",
       "      <td>Yes</td>\n",
       "      <td>Engineer</td>\n",
       "      <td>0.0</td>\n",
       "      <td>Low</td>\n",
       "      <td>3.0</td>\n",
       "      <td>Cat_7</td>\n",
       "      <td>D</td>\n",
       "    </tr>\n",
       "    <tr>\n",
       "      <th>9</th>\n",
       "      <td>465176</td>\n",
       "      <td>Female</td>\n",
       "      <td>Yes</td>\n",
       "      <td>55</td>\n",
       "      <td>Yes</td>\n",
       "      <td>Artist</td>\n",
       "      <td>1.0</td>\n",
       "      <td>Average</td>\n",
       "      <td>4.0</td>\n",
       "      <td>Cat_6</td>\n",
       "      <td>C</td>\n",
       "    </tr>\n",
       "  </tbody>\n",
       "</table>\n",
       "</div>"
      ],
      "text/plain": [
       "       ID  Gender Ever_Married  Age Graduated     Profession  Work_Experience  \\\n",
       "0  462809    Male           No   22        No     Healthcare              1.0   \n",
       "1  462643  Female          Yes   38       Yes       Engineer              NaN   \n",
       "2  466315  Female          Yes   67       Yes       Engineer              1.0   \n",
       "3  461735    Male          Yes   67       Yes         Lawyer              0.0   \n",
       "4  462669  Female          Yes   40       Yes  Entertainment              NaN   \n",
       "5  461319    Male          Yes   56        No         Artist              0.0   \n",
       "6  460156    Male           No   32       Yes     Healthcare              1.0   \n",
       "7  464347  Female           No   33       Yes     Healthcare              1.0   \n",
       "8  465015  Female          Yes   61       Yes       Engineer              0.0   \n",
       "9  465176  Female          Yes   55       Yes         Artist              1.0   \n",
       "\n",
       "  Spending_Score  Family_Size  Var_1 Segmentation  \n",
       "0            Low          4.0  Cat_4            D  \n",
       "1        Average          3.0  Cat_4            A  \n",
       "2            Low          1.0  Cat_6            B  \n",
       "3           High          2.0  Cat_6            B  \n",
       "4           High          6.0  Cat_6            A  \n",
       "5        Average          2.0  Cat_6            C  \n",
       "6            Low          3.0  Cat_6            C  \n",
       "7            Low          3.0  Cat_6            D  \n",
       "8            Low          3.0  Cat_7            D  \n",
       "9        Average          4.0  Cat_6            C  "
      ]
     },
     "execution_count": 3,
     "metadata": {},
     "output_type": "execute_result"
    }
   ],
   "source": [
    "train.head(10)"
   ]
  },
  {
   "cell_type": "code",
   "execution_count": 4,
   "id": "7440ebe6",
   "metadata": {},
   "outputs": [
    {
     "data": {
      "text/plain": [
       "(8068, 11)"
      ]
     },
     "execution_count": 4,
     "metadata": {},
     "output_type": "execute_result"
    }
   ],
   "source": [
    "train.shape"
   ]
  },
  {
   "cell_type": "code",
   "execution_count": 5,
   "id": "e56c36e1",
   "metadata": {},
   "outputs": [
    {
     "name": "stdout",
     "output_type": "stream",
     "text": [
      "<class 'pandas.core.frame.DataFrame'>\n",
      "RangeIndex: 8068 entries, 0 to 8067\n",
      "Data columns (total 11 columns):\n",
      " #   Column           Non-Null Count  Dtype  \n",
      "---  ------           --------------  -----  \n",
      " 0   ID               8068 non-null   int64  \n",
      " 1   Gender           8068 non-null   object \n",
      " 2   Ever_Married     7928 non-null   object \n",
      " 3   Age              8068 non-null   int64  \n",
      " 4   Graduated        7990 non-null   object \n",
      " 5   Profession       7944 non-null   object \n",
      " 6   Work_Experience  7239 non-null   float64\n",
      " 7   Spending_Score   8068 non-null   object \n",
      " 8   Family_Size      7733 non-null   float64\n",
      " 9   Var_1            7992 non-null   object \n",
      " 10  Segmentation     8068 non-null   object \n",
      "dtypes: float64(2), int64(2), object(7)\n",
      "memory usage: 693.5+ KB\n"
     ]
    }
   ],
   "source": [
    "train.info()"
   ]
  },
  {
   "cell_type": "code",
   "execution_count": 6,
   "id": "943b8e31",
   "metadata": {},
   "outputs": [
    {
     "data": {
      "text/plain": [
       "ID                   int64\n",
       "Gender              object\n",
       "Ever_Married        object\n",
       "Age                  int64\n",
       "Graduated           object\n",
       "Profession          object\n",
       "Work_Experience    float64\n",
       "Spending_Score      object\n",
       "Family_Size        float64\n",
       "Var_1               object\n",
       "Segmentation        object\n",
       "dtype: object"
      ]
     },
     "execution_count": 6,
     "metadata": {},
     "output_type": "execute_result"
    }
   ],
   "source": [
    "train.dtypes"
   ]
  },
  {
   "cell_type": "code",
   "execution_count": 7,
   "id": "57bbfbd2",
   "metadata": {},
   "outputs": [
    {
     "data": {
      "text/plain": [
       "ID                   0\n",
       "Gender               0\n",
       "Ever_Married       140\n",
       "Age                  0\n",
       "Graduated           78\n",
       "Profession         124\n",
       "Work_Experience    829\n",
       "Spending_Score       0\n",
       "Family_Size        335\n",
       "Var_1               76\n",
       "Segmentation         0\n",
       "dtype: int64"
      ]
     },
     "execution_count": 7,
     "metadata": {},
     "output_type": "execute_result"
    }
   ],
   "source": [
    "train.isnull().sum()"
   ]
  },
  {
   "cell_type": "markdown",
   "id": "64417c7b",
   "metadata": {},
   "source": [
    "### Replacing missing values"
   ]
  },
  {
   "cell_type": "code",
   "execution_count": 8,
   "id": "55873347",
   "metadata": {},
   "outputs": [],
   "source": [
    "mode=train['Spending_Score'].mode().values[0]\n",
    "train['Spending_Score']=train['Spending_Score'].replace(np.nan,mode)"
   ]
  },
  {
   "cell_type": "code",
   "execution_count": 9,
   "id": "362c9586",
   "metadata": {},
   "outputs": [],
   "source": [
    "mode=train['Ever_Married'].mode().values[0]\n",
    "train['Ever_Married']=train['Ever_Married'].replace(np.nan,mode)"
   ]
  },
  {
   "cell_type": "code",
   "execution_count": 10,
   "id": "8f786450",
   "metadata": {},
   "outputs": [],
   "source": [
    "mode=train['Graduated'].mode().values[0]\n",
    "train['Graduated']=train['Graduated'].replace(np.nan,mode)"
   ]
  },
  {
   "cell_type": "code",
   "execution_count": 11,
   "id": "2111f57e",
   "metadata": {},
   "outputs": [],
   "source": [
    "mode=train['Profession'].mode().values[0]\n",
    "train['Profession']=train['Profession'].replace(np.nan,mode)"
   ]
  },
  {
   "cell_type": "code",
   "execution_count": 12,
   "id": "b855657f",
   "metadata": {},
   "outputs": [],
   "source": [
    "mode=train['Work_Experience'].mode().values[0]\n",
    "train['Work_Experience']=train['Work_Experience'].replace(np.nan,mode)"
   ]
  },
  {
   "cell_type": "code",
   "execution_count": 13,
   "id": "4847f667",
   "metadata": {},
   "outputs": [],
   "source": [
    "mode=train['Var_1'].mode().values[0]\n",
    "train['Var_1']=train['Var_1'].replace(np.nan,mode)"
   ]
  },
  {
   "cell_type": "code",
   "execution_count": 14,
   "id": "a76472b4",
   "metadata": {},
   "outputs": [],
   "source": [
    "train['Family_Size']=train['Family_Size'].replace(to_replace=0, value=np.nan)\n",
    "train['Family_Size']=train['Family_Size'].astype(float)\n",
    "mean=train['Family_Size'].mean()\n",
    "train['Family_Size'].replace(np.nan,mean,inplace=True)"
   ]
  },
  {
   "cell_type": "code",
   "execution_count": 15,
   "id": "6db33ac5",
   "metadata": {},
   "outputs": [
    {
     "data": {
      "text/plain": [
       "ID                 0\n",
       "Gender             0\n",
       "Ever_Married       0\n",
       "Age                0\n",
       "Graduated          0\n",
       "Profession         0\n",
       "Work_Experience    0\n",
       "Spending_Score     0\n",
       "Family_Size        0\n",
       "Var_1              0\n",
       "Segmentation       0\n",
       "dtype: int64"
      ]
     },
     "execution_count": 15,
     "metadata": {},
     "output_type": "execute_result"
    }
   ],
   "source": [
    "train.isnull().sum()"
   ]
  },
  {
   "cell_type": "code",
   "execution_count": 16,
   "id": "5f6ee0af",
   "metadata": {},
   "outputs": [
    {
     "data": {
      "text/html": [
       "<div>\n",
       "<style scoped>\n",
       "    .dataframe tbody tr th:only-of-type {\n",
       "        vertical-align: middle;\n",
       "    }\n",
       "\n",
       "    .dataframe tbody tr th {\n",
       "        vertical-align: top;\n",
       "    }\n",
       "\n",
       "    .dataframe thead th {\n",
       "        text-align: right;\n",
       "    }\n",
       "</style>\n",
       "<table border=\"1\" class=\"dataframe\">\n",
       "  <thead>\n",
       "    <tr style=\"text-align: right;\">\n",
       "      <th></th>\n",
       "      <th>ID</th>\n",
       "      <th>Gender</th>\n",
       "      <th>Ever_Married</th>\n",
       "      <th>Age</th>\n",
       "      <th>Graduated</th>\n",
       "      <th>Profession</th>\n",
       "      <th>Work_Experience</th>\n",
       "      <th>Spending_Score</th>\n",
       "      <th>Family_Size</th>\n",
       "      <th>Var_1</th>\n",
       "      <th>Segmentation</th>\n",
       "    </tr>\n",
       "  </thead>\n",
       "  <tbody>\n",
       "    <tr>\n",
       "      <th>0</th>\n",
       "      <td>462809</td>\n",
       "      <td>Male</td>\n",
       "      <td>No</td>\n",
       "      <td>22</td>\n",
       "      <td>No</td>\n",
       "      <td>Healthcare</td>\n",
       "      <td>1.0</td>\n",
       "      <td>Low</td>\n",
       "      <td>4.0</td>\n",
       "      <td>Cat_4</td>\n",
       "      <td>D</td>\n",
       "    </tr>\n",
       "    <tr>\n",
       "      <th>1</th>\n",
       "      <td>462643</td>\n",
       "      <td>Female</td>\n",
       "      <td>Yes</td>\n",
       "      <td>38</td>\n",
       "      <td>Yes</td>\n",
       "      <td>Engineer</td>\n",
       "      <td>1.0</td>\n",
       "      <td>Average</td>\n",
       "      <td>3.0</td>\n",
       "      <td>Cat_4</td>\n",
       "      <td>A</td>\n",
       "    </tr>\n",
       "    <tr>\n",
       "      <th>2</th>\n",
       "      <td>466315</td>\n",
       "      <td>Female</td>\n",
       "      <td>Yes</td>\n",
       "      <td>67</td>\n",
       "      <td>Yes</td>\n",
       "      <td>Engineer</td>\n",
       "      <td>1.0</td>\n",
       "      <td>Low</td>\n",
       "      <td>1.0</td>\n",
       "      <td>Cat_6</td>\n",
       "      <td>B</td>\n",
       "    </tr>\n",
       "    <tr>\n",
       "      <th>3</th>\n",
       "      <td>461735</td>\n",
       "      <td>Male</td>\n",
       "      <td>Yes</td>\n",
       "      <td>67</td>\n",
       "      <td>Yes</td>\n",
       "      <td>Lawyer</td>\n",
       "      <td>0.0</td>\n",
       "      <td>High</td>\n",
       "      <td>2.0</td>\n",
       "      <td>Cat_6</td>\n",
       "      <td>B</td>\n",
       "    </tr>\n",
       "    <tr>\n",
       "      <th>4</th>\n",
       "      <td>462669</td>\n",
       "      <td>Female</td>\n",
       "      <td>Yes</td>\n",
       "      <td>40</td>\n",
       "      <td>Yes</td>\n",
       "      <td>Entertainment</td>\n",
       "      <td>1.0</td>\n",
       "      <td>High</td>\n",
       "      <td>6.0</td>\n",
       "      <td>Cat_6</td>\n",
       "      <td>A</td>\n",
       "    </tr>\n",
       "    <tr>\n",
       "      <th>5</th>\n",
       "      <td>461319</td>\n",
       "      <td>Male</td>\n",
       "      <td>Yes</td>\n",
       "      <td>56</td>\n",
       "      <td>No</td>\n",
       "      <td>Artist</td>\n",
       "      <td>0.0</td>\n",
       "      <td>Average</td>\n",
       "      <td>2.0</td>\n",
       "      <td>Cat_6</td>\n",
       "      <td>C</td>\n",
       "    </tr>\n",
       "    <tr>\n",
       "      <th>6</th>\n",
       "      <td>460156</td>\n",
       "      <td>Male</td>\n",
       "      <td>No</td>\n",
       "      <td>32</td>\n",
       "      <td>Yes</td>\n",
       "      <td>Healthcare</td>\n",
       "      <td>1.0</td>\n",
       "      <td>Low</td>\n",
       "      <td>3.0</td>\n",
       "      <td>Cat_6</td>\n",
       "      <td>C</td>\n",
       "    </tr>\n",
       "    <tr>\n",
       "      <th>7</th>\n",
       "      <td>464347</td>\n",
       "      <td>Female</td>\n",
       "      <td>No</td>\n",
       "      <td>33</td>\n",
       "      <td>Yes</td>\n",
       "      <td>Healthcare</td>\n",
       "      <td>1.0</td>\n",
       "      <td>Low</td>\n",
       "      <td>3.0</td>\n",
       "      <td>Cat_6</td>\n",
       "      <td>D</td>\n",
       "    </tr>\n",
       "    <tr>\n",
       "      <th>8</th>\n",
       "      <td>465015</td>\n",
       "      <td>Female</td>\n",
       "      <td>Yes</td>\n",
       "      <td>61</td>\n",
       "      <td>Yes</td>\n",
       "      <td>Engineer</td>\n",
       "      <td>0.0</td>\n",
       "      <td>Low</td>\n",
       "      <td>3.0</td>\n",
       "      <td>Cat_7</td>\n",
       "      <td>D</td>\n",
       "    </tr>\n",
       "    <tr>\n",
       "      <th>9</th>\n",
       "      <td>465176</td>\n",
       "      <td>Female</td>\n",
       "      <td>Yes</td>\n",
       "      <td>55</td>\n",
       "      <td>Yes</td>\n",
       "      <td>Artist</td>\n",
       "      <td>1.0</td>\n",
       "      <td>Average</td>\n",
       "      <td>4.0</td>\n",
       "      <td>Cat_6</td>\n",
       "      <td>C</td>\n",
       "    </tr>\n",
       "  </tbody>\n",
       "</table>\n",
       "</div>"
      ],
      "text/plain": [
       "       ID  Gender Ever_Married  Age Graduated     Profession  Work_Experience  \\\n",
       "0  462809    Male           No   22        No     Healthcare              1.0   \n",
       "1  462643  Female          Yes   38       Yes       Engineer              1.0   \n",
       "2  466315  Female          Yes   67       Yes       Engineer              1.0   \n",
       "3  461735    Male          Yes   67       Yes         Lawyer              0.0   \n",
       "4  462669  Female          Yes   40       Yes  Entertainment              1.0   \n",
       "5  461319    Male          Yes   56        No         Artist              0.0   \n",
       "6  460156    Male           No   32       Yes     Healthcare              1.0   \n",
       "7  464347  Female           No   33       Yes     Healthcare              1.0   \n",
       "8  465015  Female          Yes   61       Yes       Engineer              0.0   \n",
       "9  465176  Female          Yes   55       Yes         Artist              1.0   \n",
       "\n",
       "  Spending_Score  Family_Size  Var_1 Segmentation  \n",
       "0            Low          4.0  Cat_4            D  \n",
       "1        Average          3.0  Cat_4            A  \n",
       "2            Low          1.0  Cat_6            B  \n",
       "3           High          2.0  Cat_6            B  \n",
       "4           High          6.0  Cat_6            A  \n",
       "5        Average          2.0  Cat_6            C  \n",
       "6            Low          3.0  Cat_6            C  \n",
       "7            Low          3.0  Cat_6            D  \n",
       "8            Low          3.0  Cat_7            D  \n",
       "9        Average          4.0  Cat_6            C  "
      ]
     },
     "execution_count": 16,
     "metadata": {},
     "output_type": "execute_result"
    }
   ],
   "source": [
    "train.head(10)"
   ]
  },
  {
   "cell_type": "markdown",
   "id": "ec3bf1dc",
   "metadata": {},
   "source": [
    "### Checking Duplicated values"
   ]
  },
  {
   "cell_type": "code",
   "execution_count": 17,
   "id": "2bb72377",
   "metadata": {},
   "outputs": [
    {
     "name": "stdout",
     "output_type": "stream",
     "text": [
      "0\n"
     ]
    },
    {
     "data": {
      "text/html": [
       "<div>\n",
       "<style scoped>\n",
       "    .dataframe tbody tr th:only-of-type {\n",
       "        vertical-align: middle;\n",
       "    }\n",
       "\n",
       "    .dataframe tbody tr th {\n",
       "        vertical-align: top;\n",
       "    }\n",
       "\n",
       "    .dataframe thead th {\n",
       "        text-align: right;\n",
       "    }\n",
       "</style>\n",
       "<table border=\"1\" class=\"dataframe\">\n",
       "  <thead>\n",
       "    <tr style=\"text-align: right;\">\n",
       "      <th></th>\n",
       "      <th>ID</th>\n",
       "      <th>Gender</th>\n",
       "      <th>Ever_Married</th>\n",
       "      <th>Age</th>\n",
       "      <th>Graduated</th>\n",
       "      <th>Profession</th>\n",
       "      <th>Work_Experience</th>\n",
       "      <th>Spending_Score</th>\n",
       "      <th>Family_Size</th>\n",
       "      <th>Var_1</th>\n",
       "      <th>Segmentation</th>\n",
       "    </tr>\n",
       "  </thead>\n",
       "  <tbody>\n",
       "  </tbody>\n",
       "</table>\n",
       "</div>"
      ],
      "text/plain": [
       "Empty DataFrame\n",
       "Columns: [ID, Gender, Ever_Married, Age, Graduated, Profession, Work_Experience, Spending_Score, Family_Size, Var_1, Segmentation]\n",
       "Index: []"
      ]
     },
     "execution_count": 17,
     "metadata": {},
     "output_type": "execute_result"
    }
   ],
   "source": [
    "duplicate=train.duplicated()\n",
    "print(duplicate.sum())\n",
    "train[duplicate]"
   ]
  },
  {
   "cell_type": "markdown",
   "id": "5fcf5cd0",
   "metadata": {},
   "source": [
    "### Label Encoding"
   ]
  },
  {
   "cell_type": "code",
   "execution_count": 18,
   "id": "ff267fe8",
   "metadata": {},
   "outputs": [
    {
     "data": {
      "text/plain": [
       "array([1, 0])"
      ]
     },
     "execution_count": 18,
     "metadata": {},
     "output_type": "execute_result"
    }
   ],
   "source": [
    "label_encoder = preprocessing.LabelEncoder()\n",
    "  \n",
    "# Encode labels in column 'Choose your gender'.\n",
    "train['Gender']= label_encoder.fit_transform(train['Gender'])\n",
    "  \n",
    "train['Gender'].unique()"
   ]
  },
  {
   "cell_type": "code",
   "execution_count": 19,
   "id": "5cb8af28",
   "metadata": {},
   "outputs": [
    {
     "data": {
      "text/plain": [
       "array([0, 1])"
      ]
     },
     "execution_count": 19,
     "metadata": {},
     "output_type": "execute_result"
    }
   ],
   "source": [
    "train['Ever_Married']= label_encoder.fit_transform(train['Ever_Married'])\n",
    "train['Ever_Married'].unique()"
   ]
  },
  {
   "cell_type": "code",
   "execution_count": 20,
   "id": "3848bf31",
   "metadata": {},
   "outputs": [
    {
     "data": {
      "text/plain": [
       "array([0, 1])"
      ]
     },
     "execution_count": 20,
     "metadata": {},
     "output_type": "execute_result"
    }
   ],
   "source": [
    "train['Graduated']= label_encoder.fit_transform(train['Graduated'])\n",
    "train['Graduated'].unique()"
   ]
  },
  {
   "cell_type": "code",
   "execution_count": 21,
   "id": "1ba495e1",
   "metadata": {},
   "outputs": [
    {
     "data": {
      "text/plain": [
       "array([5, 2, 7, 3, 0, 4, 1, 6, 8])"
      ]
     },
     "execution_count": 21,
     "metadata": {},
     "output_type": "execute_result"
    }
   ],
   "source": [
    "train['Profession']= label_encoder.fit_transform(train['Profession'])\n",
    "train['Profession'].unique()"
   ]
  },
  {
   "cell_type": "code",
   "execution_count": 22,
   "id": "a73748fd",
   "metadata": {},
   "outputs": [
    {
     "data": {
      "text/plain": [
       "array([2, 0, 1])"
      ]
     },
     "execution_count": 22,
     "metadata": {},
     "output_type": "execute_result"
    }
   ],
   "source": [
    "train['Spending_Score']= label_encoder.fit_transform(train['Spending_Score'])\n",
    "train['Spending_Score'].unique()"
   ]
  },
  {
   "cell_type": "code",
   "execution_count": 23,
   "id": "91ec6323",
   "metadata": {},
   "outputs": [
    {
     "data": {
      "text/plain": [
       "array([3, 5, 6, 2, 0, 1, 4])"
      ]
     },
     "execution_count": 23,
     "metadata": {},
     "output_type": "execute_result"
    }
   ],
   "source": [
    "train['Var_1']= label_encoder.fit_transform(train['Var_1'])\n",
    "train['Var_1'].unique()"
   ]
  },
  {
   "cell_type": "code",
   "execution_count": 24,
   "id": "e2b283ae",
   "metadata": {},
   "outputs": [
    {
     "data": {
      "text/plain": [
       "array([3, 0, 1, 2])"
      ]
     },
     "execution_count": 24,
     "metadata": {},
     "output_type": "execute_result"
    }
   ],
   "source": [
    "train['Segmentation']= label_encoder.fit_transform(train['Segmentation'])\n",
    "train['Segmentation'].unique()"
   ]
  },
  {
   "cell_type": "markdown",
   "id": "5fd2e91b",
   "metadata": {},
   "source": [
    "### Removing Outliers"
   ]
  },
  {
   "cell_type": "code",
   "execution_count": 25,
   "id": "dd1bb626",
   "metadata": {},
   "outputs": [],
   "source": [
    "def remove_outlier(col):\n",
    "    sorted(col)\n",
    "    Q1,Q3=col.quantile([0.25,0.75])\n",
    "    IQR=Q3-Q1\n",
    "    lower_range=Q1-(1.5*IQR)\n",
    "    upper_range=Q3+(1.5*IQR)\n",
    "    return lower_range,upper_range"
   ]
  },
  {
   "cell_type": "code",
   "execution_count": 26,
   "id": "866bf24c",
   "metadata": {},
   "outputs": [],
   "source": [
    "lowage,uppage=remove_outlier(train['Age'])\n",
    "train[\"Age\"]=np.where(train['Age']>uppage,uppage,train['Age'])\n",
    "train[\"Age\"]=np.where(train['Age']<lowage,lowage,train['Age'])"
   ]
  },
  {
   "cell_type": "code",
   "execution_count": 27,
   "id": "e6ead025",
   "metadata": {},
   "outputs": [],
   "source": [
    "lowage,uppage=remove_outlier(train['Ever_Married'])\n",
    "train[\"Ever_Married\"]=np.where(train['Ever_Married']>uppage,uppage,train['Ever_Married'])\n",
    "train[\"Ever_Married\"]=np.where(train['Ever_Married']<lowage,lowage,train['Ever_Married'])"
   ]
  },
  {
   "cell_type": "code",
   "execution_count": 28,
   "id": "186b8b52",
   "metadata": {},
   "outputs": [],
   "source": [
    "lowage,uppage=remove_outlier(train['Graduated'])\n",
    "train[\"Graduated\"]=np.where(train['Graduated']>uppage,uppage,train['Graduated'])\n",
    "train[\"Graduated\"]=np.where(train['Graduated']<lowage,lowage,train['Graduated'])"
   ]
  },
  {
   "cell_type": "code",
   "execution_count": 29,
   "id": "fe689197",
   "metadata": {},
   "outputs": [],
   "source": [
    "lowage,uppage=remove_outlier(train['Profession'])\n",
    "train[\"Profession\"]=np.where(train['Profession']>uppage,uppage,train['Profession'])\n",
    "train[\"Profession\"]=np.where(train['Profession']<lowage,lowage,train['Profession'])"
   ]
  },
  {
   "cell_type": "code",
   "execution_count": 30,
   "id": "e969f20c",
   "metadata": {},
   "outputs": [],
   "source": [
    "lowage,uppage=remove_outlier(train['Work_Experience'])\n",
    "train[\"Work_Experience\"]=np.where(train['Work_Experience']>uppage,uppage,train['Work_Experience'])\n",
    "train[\"Work_Experience\"]=np.where(train['Work_Experience']<lowage,lowage,train['Work_Experience'])"
   ]
  },
  {
   "cell_type": "code",
   "execution_count": 31,
   "id": "66daba49",
   "metadata": {},
   "outputs": [],
   "source": [
    "lowage,uppage=remove_outlier(train['Spending_Score'])\n",
    "train[\"Spending_Score\"]=np.where(train['Spending_Score']>uppage,uppage,train['Spending_Score'])\n",
    "train[\"Spending_Score\"]=np.where(train['Spending_Score']<lowage,lowage,train['Spending_Score'])"
   ]
  },
  {
   "cell_type": "code",
   "execution_count": 32,
   "id": "4e3f92a2",
   "metadata": {},
   "outputs": [],
   "source": [
    "lowage,uppage=remove_outlier(train['Family_Size'])\n",
    "train[\"Family_Size\"]=np.where(train['Family_Size']>uppage,uppage,train['Family_Size'])\n",
    "train[\"Family_Size\"]=np.where(train['Family_Size']<lowage,lowage,train['Family_Size'])"
   ]
  },
  {
   "cell_type": "code",
   "execution_count": 33,
   "id": "145e0d11",
   "metadata": {},
   "outputs": [],
   "source": [
    "lowage,uppage=remove_outlier(train['Var_1'])\n",
    "train[\"Var_1\"]=np.where(train['Var_1']>uppage,uppage,train['Var_1'])\n",
    "train[\"Var_1\"]=np.where(train['Var_1']<lowage,lowage,train['Var_1'])"
   ]
  },
  {
   "cell_type": "code",
   "execution_count": 34,
   "id": "a0fa285a",
   "metadata": {},
   "outputs": [],
   "source": [
    "lowage,uppage=remove_outlier(train['Segmentation'])\n",
    "train[\"Segmentation\"]=np.where(train['Segmentation']>uppage,uppage,train['Segmentation'])\n",
    "train[\"Segmentation\"]=np.where(train['Segmentation']<lowage,lowage,train['Segmentation'])"
   ]
  },
  {
   "cell_type": "markdown",
   "id": "848f2712",
   "metadata": {},
   "source": [
    "### Scaling the data using MinMax Scaler"
   ]
  },
  {
   "cell_type": "code",
   "execution_count": 35,
   "id": "4af1fa2b",
   "metadata": {},
   "outputs": [
    {
     "data": {
      "text/html": [
       "<div>\n",
       "<style scoped>\n",
       "    .dataframe tbody tr th:only-of-type {\n",
       "        vertical-align: middle;\n",
       "    }\n",
       "\n",
       "    .dataframe tbody tr th {\n",
       "        vertical-align: top;\n",
       "    }\n",
       "\n",
       "    .dataframe thead th {\n",
       "        text-align: right;\n",
       "    }\n",
       "</style>\n",
       "<table border=\"1\" class=\"dataframe\">\n",
       "  <thead>\n",
       "    <tr style=\"text-align: right;\">\n",
       "      <th></th>\n",
       "      <th>ID</th>\n",
       "      <th>Gender</th>\n",
       "      <th>Ever_Married</th>\n",
       "      <th>Age</th>\n",
       "      <th>Graduated</th>\n",
       "      <th>Profession</th>\n",
       "      <th>Work_Experience</th>\n",
       "      <th>Spending_Score</th>\n",
       "      <th>Family_Size</th>\n",
       "      <th>Var_1</th>\n",
       "      <th>Segmentation</th>\n",
       "    </tr>\n",
       "  </thead>\n",
       "  <tbody>\n",
       "    <tr>\n",
       "      <th>0</th>\n",
       "      <td>462809</td>\n",
       "      <td>1</td>\n",
       "      <td>0.0</td>\n",
       "      <td>22.0</td>\n",
       "      <td>0.0</td>\n",
       "      <td>5.0</td>\n",
       "      <td>0.1</td>\n",
       "      <td>2.0</td>\n",
       "      <td>0.500000</td>\n",
       "      <td>3.0</td>\n",
       "      <td>3.0</td>\n",
       "    </tr>\n",
       "    <tr>\n",
       "      <th>1</th>\n",
       "      <td>462643</td>\n",
       "      <td>0</td>\n",
       "      <td>1.0</td>\n",
       "      <td>38.0</td>\n",
       "      <td>1.0</td>\n",
       "      <td>2.0</td>\n",
       "      <td>0.1</td>\n",
       "      <td>0.0</td>\n",
       "      <td>0.333333</td>\n",
       "      <td>3.0</td>\n",
       "      <td>0.0</td>\n",
       "    </tr>\n",
       "    <tr>\n",
       "      <th>2</th>\n",
       "      <td>466315</td>\n",
       "      <td>0</td>\n",
       "      <td>1.0</td>\n",
       "      <td>67.0</td>\n",
       "      <td>1.0</td>\n",
       "      <td>2.0</td>\n",
       "      <td>0.1</td>\n",
       "      <td>2.0</td>\n",
       "      <td>0.000000</td>\n",
       "      <td>5.0</td>\n",
       "      <td>1.0</td>\n",
       "    </tr>\n",
       "    <tr>\n",
       "      <th>3</th>\n",
       "      <td>461735</td>\n",
       "      <td>1</td>\n",
       "      <td>1.0</td>\n",
       "      <td>67.0</td>\n",
       "      <td>1.0</td>\n",
       "      <td>7.0</td>\n",
       "      <td>0.0</td>\n",
       "      <td>1.0</td>\n",
       "      <td>0.166667</td>\n",
       "      <td>5.0</td>\n",
       "      <td>1.0</td>\n",
       "    </tr>\n",
       "    <tr>\n",
       "      <th>4</th>\n",
       "      <td>462669</td>\n",
       "      <td>0</td>\n",
       "      <td>1.0</td>\n",
       "      <td>40.0</td>\n",
       "      <td>1.0</td>\n",
       "      <td>3.0</td>\n",
       "      <td>0.1</td>\n",
       "      <td>1.0</td>\n",
       "      <td>0.833333</td>\n",
       "      <td>5.0</td>\n",
       "      <td>0.0</td>\n",
       "    </tr>\n",
       "    <tr>\n",
       "      <th>5</th>\n",
       "      <td>461319</td>\n",
       "      <td>1</td>\n",
       "      <td>1.0</td>\n",
       "      <td>56.0</td>\n",
       "      <td>0.0</td>\n",
       "      <td>0.0</td>\n",
       "      <td>0.0</td>\n",
       "      <td>0.0</td>\n",
       "      <td>0.166667</td>\n",
       "      <td>5.0</td>\n",
       "      <td>2.0</td>\n",
       "    </tr>\n",
       "    <tr>\n",
       "      <th>6</th>\n",
       "      <td>460156</td>\n",
       "      <td>1</td>\n",
       "      <td>0.0</td>\n",
       "      <td>32.0</td>\n",
       "      <td>1.0</td>\n",
       "      <td>5.0</td>\n",
       "      <td>0.1</td>\n",
       "      <td>2.0</td>\n",
       "      <td>0.333333</td>\n",
       "      <td>5.0</td>\n",
       "      <td>2.0</td>\n",
       "    </tr>\n",
       "    <tr>\n",
       "      <th>7</th>\n",
       "      <td>464347</td>\n",
       "      <td>0</td>\n",
       "      <td>0.0</td>\n",
       "      <td>33.0</td>\n",
       "      <td>1.0</td>\n",
       "      <td>5.0</td>\n",
       "      <td>0.1</td>\n",
       "      <td>2.0</td>\n",
       "      <td>0.333333</td>\n",
       "      <td>5.0</td>\n",
       "      <td>3.0</td>\n",
       "    </tr>\n",
       "    <tr>\n",
       "      <th>8</th>\n",
       "      <td>465015</td>\n",
       "      <td>0</td>\n",
       "      <td>1.0</td>\n",
       "      <td>61.0</td>\n",
       "      <td>1.0</td>\n",
       "      <td>2.0</td>\n",
       "      <td>0.0</td>\n",
       "      <td>2.0</td>\n",
       "      <td>0.333333</td>\n",
       "      <td>6.0</td>\n",
       "      <td>3.0</td>\n",
       "    </tr>\n",
       "    <tr>\n",
       "      <th>9</th>\n",
       "      <td>465176</td>\n",
       "      <td>0</td>\n",
       "      <td>1.0</td>\n",
       "      <td>55.0</td>\n",
       "      <td>1.0</td>\n",
       "      <td>0.0</td>\n",
       "      <td>0.1</td>\n",
       "      <td>0.0</td>\n",
       "      <td>0.500000</td>\n",
       "      <td>5.0</td>\n",
       "      <td>2.0</td>\n",
       "    </tr>\n",
       "  </tbody>\n",
       "</table>\n",
       "</div>"
      ],
      "text/plain": [
       "       ID  Gender  Ever_Married   Age  Graduated  Profession  Work_Experience  \\\n",
       "0  462809       1           0.0  22.0        0.0         5.0              0.1   \n",
       "1  462643       0           1.0  38.0        1.0         2.0              0.1   \n",
       "2  466315       0           1.0  67.0        1.0         2.0              0.1   \n",
       "3  461735       1           1.0  67.0        1.0         7.0              0.0   \n",
       "4  462669       0           1.0  40.0        1.0         3.0              0.1   \n",
       "5  461319       1           1.0  56.0        0.0         0.0              0.0   \n",
       "6  460156       1           0.0  32.0        1.0         5.0              0.1   \n",
       "7  464347       0           0.0  33.0        1.0         5.0              0.1   \n",
       "8  465015       0           1.0  61.0        1.0         2.0              0.0   \n",
       "9  465176       0           1.0  55.0        1.0         0.0              0.1   \n",
       "\n",
       "   Spending_Score  Family_Size  Var_1  Segmentation  \n",
       "0             2.0     0.500000    3.0           3.0  \n",
       "1             0.0     0.333333    3.0           0.0  \n",
       "2             2.0     0.000000    5.0           1.0  \n",
       "3             1.0     0.166667    5.0           1.0  \n",
       "4             1.0     0.833333    5.0           0.0  \n",
       "5             0.0     0.166667    5.0           2.0  \n",
       "6             2.0     0.333333    5.0           2.0  \n",
       "7             2.0     0.333333    5.0           3.0  \n",
       "8             2.0     0.333333    6.0           3.0  \n",
       "9             0.0     0.500000    5.0           2.0  "
      ]
     },
     "execution_count": 35,
     "metadata": {},
     "output_type": "execute_result"
    }
   ],
   "source": [
    "from sklearn.preprocessing import MinMaxScaler\n",
    "scaler = MinMaxScaler()\n",
    "columns_to_normalize = ['Work_Experience','Family_Size']\n",
    "\n",
    "train[columns_to_normalize] = scaler.fit_transform(train[columns_to_normalize])\n",
    "train.head(10)"
   ]
  },
  {
   "cell_type": "markdown",
   "id": "14bd3449",
   "metadata": {},
   "source": [
    "### KMeans Clustering"
   ]
  },
  {
   "cell_type": "code",
   "execution_count": 36,
   "id": "aa80062e",
   "metadata": {},
   "outputs": [],
   "source": [
    "from sklearn.cluster import KMeans"
   ]
  },
  {
   "cell_type": "code",
   "execution_count": 37,
   "id": "a26b99cc",
   "metadata": {},
   "outputs": [],
   "source": [
    "wcss=[]\n",
    "for i in range(1,10):\n",
    "    kmeans = KMeans(n_clusters= i, init='k-means++', random_state=0)\n",
    "    kmeans.fit(train.drop(columns=[\"ID\",\"Segmentation\",\"Gender\",\"Spending_Score\"]))\n",
    "    wcss.append(kmeans.inertia_)"
   ]
  },
  {
   "cell_type": "code",
   "execution_count": 38,
   "id": "c9f6fdeb",
   "metadata": {},
   "outputs": [
    {
     "data": {
      "image/png": "[encoded data removed]",
      "text/plain": [
       "<Figure size 576x360 with 1 Axes>"
      ]
     },
     "metadata": {
      "needs_background": "light"
     },
     "output_type": "display_data"
    }
   ],
   "source": [
    "import matplotlib.pyplot as plt\n",
    "plt.figure(figsize=(8,5))\n",
    "plt.plot(range(1,10), wcss)\n",
    "plt.title('The Elbow Method')\n",
    "plt.xlabel('no of clusters')\n",
    "plt.ylabel('wcss')\n",
    "plt.show()"
   ]
  },
  {
   "cell_type": "code",
   "execution_count": 39,
   "id": "522b5b4c",
   "metadata": {},
   "outputs": [],
   "source": [
    "#pip install kneed"
   ]
  },
  {
   "cell_type": "code",
   "execution_count": 40,
   "id": "7775a7bb",
   "metadata": {},
   "outputs": [
    {
     "data": {
      "text/plain": [
       "3"
      ]
     },
     "execution_count": 40,
     "metadata": {},
     "output_type": "execute_result"
    }
   ],
   "source": [
    "from kneed import KneeLocator\n",
    "kl = KneeLocator(range(1, 10), wcss, curve=\"convex\", direction=\"decreasing\")\n",
    "kl.elbow"
   ]
  },
  {
   "cell_type": "code",
   "execution_count": 41,
   "id": "837cdad5",
   "metadata": {},
   "outputs": [
    {
     "data": {
      "text/plain": [
       "<matplotlib.collections.PathCollection at 0x160f623a970>"
      ]
     },
     "execution_count": 41,
     "metadata": {},
     "output_type": "execute_result"
    },
    {
     "data": {
      "image/png": "[encoded data removed]",
      "text/plain": [
       "<Figure size 576x576 with 1 Axes>"
      ]
     },
     "metadata": {
      "needs_background": "light"
     },
     "output_type": "display_data"
    }
   ],
   "source": [
    "pca = decomposition.PCA(n_components=2)\n",
    "X_reduced_train = pca.fit_transform(train.drop(columns=[\"ID\",\"Segmentation\",\"Gender\",\"Spending_Score\"]))\n",
    "f, ax  = plt.subplots(figsize = (8,8))\n",
    "\n",
    "kmeansmodel = KMeans(n_clusters= 3, init='k-means++',random_state=0)\n",
    "y_kmeans_train = kmeansmodel.fit_predict(X_reduced_train)\n",
    "\n",
    "plt.scatter(X_reduced_train[:,0], X_reduced_train[:,1], c=y_kmeans_train, alpha=0.7, s=40)"
   ]
  },
  {
   "cell_type": "code",
   "execution_count": 42,
   "id": "436eb944",
   "metadata": {},
   "outputs": [
    {
     "data": {
      "text/html": [
       "<div>\n",
       "<style scoped>\n",
       "    .dataframe tbody tr th:only-of-type {\n",
       "        vertical-align: middle;\n",
       "    }\n",
       "\n",
       "    .dataframe tbody tr th {\n",
       "        vertical-align: top;\n",
       "    }\n",
       "\n",
       "    .dataframe thead th {\n",
       "        text-align: right;\n",
       "    }\n",
       "</style>\n",
       "<table border=\"1\" class=\"dataframe\">\n",
       "  <thead>\n",
       "    <tr style=\"text-align: right;\">\n",
       "      <th></th>\n",
       "      <th>ID</th>\n",
       "      <th>Gender</th>\n",
       "      <th>Ever_Married</th>\n",
       "      <th>Age</th>\n",
       "      <th>Graduated</th>\n",
       "      <th>Profession</th>\n",
       "      <th>Work_Experience</th>\n",
       "      <th>Spending_Score</th>\n",
       "      <th>Family_Size</th>\n",
       "      <th>Var_1</th>\n",
       "    </tr>\n",
       "  </thead>\n",
       "  <tbody>\n",
       "    <tr>\n",
       "      <th>0</th>\n",
       "      <td>458989</td>\n",
       "      <td>Female</td>\n",
       "      <td>Yes</td>\n",
       "      <td>36</td>\n",
       "      <td>Yes</td>\n",
       "      <td>Engineer</td>\n",
       "      <td>0.0</td>\n",
       "      <td>Low</td>\n",
       "      <td>1.0</td>\n",
       "      <td>Cat_6</td>\n",
       "    </tr>\n",
       "    <tr>\n",
       "      <th>1</th>\n",
       "      <td>458994</td>\n",
       "      <td>Male</td>\n",
       "      <td>Yes</td>\n",
       "      <td>37</td>\n",
       "      <td>Yes</td>\n",
       "      <td>Healthcare</td>\n",
       "      <td>8.0</td>\n",
       "      <td>Average</td>\n",
       "      <td>4.0</td>\n",
       "      <td>Cat_6</td>\n",
       "    </tr>\n",
       "    <tr>\n",
       "      <th>2</th>\n",
       "      <td>458996</td>\n",
       "      <td>Female</td>\n",
       "      <td>Yes</td>\n",
       "      <td>69</td>\n",
       "      <td>No</td>\n",
       "      <td>NaN</td>\n",
       "      <td>0.0</td>\n",
       "      <td>Low</td>\n",
       "      <td>1.0</td>\n",
       "      <td>Cat_6</td>\n",
       "    </tr>\n",
       "    <tr>\n",
       "      <th>3</th>\n",
       "      <td>459000</td>\n",
       "      <td>Male</td>\n",
       "      <td>Yes</td>\n",
       "      <td>59</td>\n",
       "      <td>No</td>\n",
       "      <td>Executive</td>\n",
       "      <td>11.0</td>\n",
       "      <td>High</td>\n",
       "      <td>2.0</td>\n",
       "      <td>Cat_6</td>\n",
       "    </tr>\n",
       "    <tr>\n",
       "      <th>4</th>\n",
       "      <td>459001</td>\n",
       "      <td>Female</td>\n",
       "      <td>No</td>\n",
       "      <td>19</td>\n",
       "      <td>No</td>\n",
       "      <td>Marketing</td>\n",
       "      <td>NaN</td>\n",
       "      <td>Low</td>\n",
       "      <td>4.0</td>\n",
       "      <td>Cat_6</td>\n",
       "    </tr>\n",
       "    <tr>\n",
       "      <th>5</th>\n",
       "      <td>459003</td>\n",
       "      <td>Male</td>\n",
       "      <td>Yes</td>\n",
       "      <td>47</td>\n",
       "      <td>Yes</td>\n",
       "      <td>Doctor</td>\n",
       "      <td>0.0</td>\n",
       "      <td>High</td>\n",
       "      <td>5.0</td>\n",
       "      <td>Cat_4</td>\n",
       "    </tr>\n",
       "    <tr>\n",
       "      <th>6</th>\n",
       "      <td>459005</td>\n",
       "      <td>Male</td>\n",
       "      <td>Yes</td>\n",
       "      <td>61</td>\n",
       "      <td>Yes</td>\n",
       "      <td>Doctor</td>\n",
       "      <td>5.0</td>\n",
       "      <td>Low</td>\n",
       "      <td>3.0</td>\n",
       "      <td>Cat_6</td>\n",
       "    </tr>\n",
       "    <tr>\n",
       "      <th>7</th>\n",
       "      <td>459008</td>\n",
       "      <td>Female</td>\n",
       "      <td>Yes</td>\n",
       "      <td>47</td>\n",
       "      <td>Yes</td>\n",
       "      <td>Artist</td>\n",
       "      <td>1.0</td>\n",
       "      <td>Average</td>\n",
       "      <td>3.0</td>\n",
       "      <td>Cat_6</td>\n",
       "    </tr>\n",
       "    <tr>\n",
       "      <th>8</th>\n",
       "      <td>459013</td>\n",
       "      <td>Male</td>\n",
       "      <td>Yes</td>\n",
       "      <td>50</td>\n",
       "      <td>Yes</td>\n",
       "      <td>Artist</td>\n",
       "      <td>2.0</td>\n",
       "      <td>Average</td>\n",
       "      <td>4.0</td>\n",
       "      <td>Cat_6</td>\n",
       "    </tr>\n",
       "    <tr>\n",
       "      <th>9</th>\n",
       "      <td>459014</td>\n",
       "      <td>Male</td>\n",
       "      <td>No</td>\n",
       "      <td>19</td>\n",
       "      <td>No</td>\n",
       "      <td>Healthcare</td>\n",
       "      <td>0.0</td>\n",
       "      <td>Low</td>\n",
       "      <td>4.0</td>\n",
       "      <td>Cat_6</td>\n",
       "    </tr>\n",
       "  </tbody>\n",
       "</table>\n",
       "</div>"
      ],
      "text/plain": [
       "       ID  Gender Ever_Married  Age Graduated  Profession  Work_Experience  \\\n",
       "0  458989  Female          Yes   36       Yes    Engineer              0.0   \n",
       "1  458994    Male          Yes   37       Yes  Healthcare              8.0   \n",
       "2  458996  Female          Yes   69        No         NaN              0.0   \n",
       "3  459000    Male          Yes   59        No   Executive             11.0   \n",
       "4  459001  Female           No   19        No   Marketing              NaN   \n",
       "5  459003    Male          Yes   47       Yes      Doctor              0.0   \n",
       "6  459005    Male          Yes   61       Yes      Doctor              5.0   \n",
       "7  459008  Female          Yes   47       Yes      Artist              1.0   \n",
       "8  459013    Male          Yes   50       Yes      Artist              2.0   \n",
       "9  459014    Male           No   19        No  Healthcare              0.0   \n",
       "\n",
       "  Spending_Score  Family_Size  Var_1  \n",
       "0            Low          1.0  Cat_6  \n",
       "1        Average          4.0  Cat_6  \n",
       "2            Low          1.0  Cat_6  \n",
       "3           High          2.0  Cat_6  \n",
       "4            Low          4.0  Cat_6  \n",
       "5           High          5.0  Cat_4  \n",
       "6            Low          3.0  Cat_6  \n",
       "7        Average          3.0  Cat_6  \n",
       "8        Average          4.0  Cat_6  \n",
       "9            Low          4.0  Cat_6  "
      ]
     },
     "execution_count": 42,
     "metadata": {},
     "output_type": "execute_result"
    }
   ],
   "source": [
    "test.head(10)"
   ]
  },
  {
   "cell_type": "code",
   "execution_count": 61,
   "id": "dd61648d",
   "metadata": {},
   "outputs": [],
   "source": [
    "test.drop(['ID','Gender'],axis=1,inplace=True)"
   ]
  },
  {
   "cell_type": "markdown",
   "id": "b3c2dfd0",
   "metadata": {},
   "source": [
    "### Replacing Missing Values"
   ]
  },
  {
   "cell_type": "code",
   "execution_count": 44,
   "id": "68f28d6d",
   "metadata": {},
   "outputs": [],
   "source": [
    "mode=test['Spending_Score'].mode().values[0]\n",
    "test['Spending_Score']=test['Spending_Score'].replace(np.nan,mode)"
   ]
  },
  {
   "cell_type": "code",
   "execution_count": 45,
   "id": "6d191608",
   "metadata": {},
   "outputs": [],
   "source": [
    "mode=test['Ever_Married'].mode().values[0]\n",
    "test['Ever_Married']=test['Ever_Married'].replace(np.nan,mode)"
   ]
  },
  {
   "cell_type": "code",
   "execution_count": 46,
   "id": "2d4d45c8",
   "metadata": {},
   "outputs": [],
   "source": [
    "mode=test['Graduated'].mode().values[0]\n",
    "test['Graduated']=test['Graduated'].replace(np.nan,mode)"
   ]
  },
  {
   "cell_type": "code",
   "execution_count": 47,
   "id": "3a1160d7",
   "metadata": {},
   "outputs": [],
   "source": [
    "mode=test['Profession'].mode().values[0]\n",
    "test['Profession']=test['Profession'].replace(np.nan,mode)"
   ]
  },
  {
   "cell_type": "code",
   "execution_count": 48,
   "id": "596fb250",
   "metadata": {},
   "outputs": [],
   "source": [
    "test['Work_Experience']=test['Work_Experience'].replace(to_replace='NaN', value=np.nan)\n",
    "test['Work_Experience']=test['Work_Experience'].astype(float)\n",
    "mean=test['Work_Experience'].mean()\n",
    "test['Work_Experience'].replace(np.nan,mean,inplace=True)"
   ]
  },
  {
   "cell_type": "code",
   "execution_count": 49,
   "id": "dfdd6068",
   "metadata": {},
   "outputs": [],
   "source": [
    "test['Family_Size']=test['Family_Size'].replace(to_replace='NaN', value=np.nan)\n",
    "test['Family_Size']=test['Family_Size'].astype(float)\n",
    "mean=test['Family_Size'].mean()\n",
    "test['Family_Size'].replace(np.nan,mean,inplace=True)"
   ]
  },
  {
   "cell_type": "code",
   "execution_count": 50,
   "id": "9e2d745e",
   "metadata": {},
   "outputs": [],
   "source": [
    "test['Age']=train['Age'].replace(to_replace=0, value=np.nan)\n",
    "test['Age']=test['Age'].astype(float)\n",
    "mean=test['Age'].mean()\n",
    "test['Age'].replace(np.nan,mean,inplace=True)"
   ]
  },
  {
   "cell_type": "code",
   "execution_count": 51,
   "id": "04faf6af",
   "metadata": {},
   "outputs": [],
   "source": [
    "mode=test['Var_1'].mode().values[0]\n",
    "test['Var_1']=test['Var_1'].replace(np.nan,mode)"
   ]
  },
  {
   "cell_type": "code",
   "execution_count": 52,
   "id": "aa1584a6",
   "metadata": {},
   "outputs": [
    {
     "data": {
      "text/plain": [
       "ID                 0\n",
       "Gender             0\n",
       "Ever_Married       0\n",
       "Age                0\n",
       "Graduated          0\n",
       "Profession         0\n",
       "Work_Experience    0\n",
       "Spending_Score     0\n",
       "Family_Size        0\n",
       "Var_1              0\n",
       "dtype: int64"
      ]
     },
     "execution_count": 52,
     "metadata": {},
     "output_type": "execute_result"
    }
   ],
   "source": [
    "test.isnull().sum()"
   ]
  },
  {
   "cell_type": "markdown",
   "id": "f89f226d",
   "metadata": {},
   "source": [
    "### Label Encoding"
   ]
  },
  {
   "cell_type": "code",
   "execution_count": 53,
   "id": "4abd4136",
   "metadata": {},
   "outputs": [
    {
     "data": {
      "text/plain": [
       "array([1, 0])"
      ]
     },
     "execution_count": 53,
     "metadata": {},
     "output_type": "execute_result"
    }
   ],
   "source": [
    "test['Ever_Married']= label_encoder.fit_transform(test['Ever_Married'])\n",
    "test['Ever_Married'].unique()"
   ]
  },
  {
   "cell_type": "code",
   "execution_count": 54,
   "id": "b9999cdb",
   "metadata": {},
   "outputs": [
    {
     "data": {
      "text/plain": [
       "array([5, 3, 2, 0, 1, 4, 6])"
      ]
     },
     "execution_count": 54,
     "metadata": {},
     "output_type": "execute_result"
    }
   ],
   "source": [
    "test['Var_1']= label_encoder.fit_transform(test['Var_1'])\n",
    "test['Var_1'].unique()"
   ]
  },
  {
   "cell_type": "code",
   "execution_count": 55,
   "id": "1dd5a1e1",
   "metadata": {},
   "outputs": [
    {
     "data": {
      "text/plain": [
       "array([1, 0])"
      ]
     },
     "execution_count": 55,
     "metadata": {},
     "output_type": "execute_result"
    }
   ],
   "source": [
    "test['Graduated']= label_encoder.fit_transform(test['Graduated'])\n",
    "test['Graduated'].unique()"
   ]
  },
  {
   "cell_type": "code",
   "execution_count": 56,
   "id": "a0308dd3",
   "metadata": {},
   "outputs": [
    {
     "data": {
      "text/plain": [
       "array([2, 5, 0, 4, 8, 1, 7, 3, 6])"
      ]
     },
     "execution_count": 56,
     "metadata": {},
     "output_type": "execute_result"
    }
   ],
   "source": [
    "test['Profession']= label_encoder.fit_transform(test['Profession'])\n",
    "test['Profession'].unique()"
   ]
  },
  {
   "cell_type": "code",
   "execution_count": 57,
   "id": "0cb60eb3",
   "metadata": {},
   "outputs": [
    {
     "data": {
      "text/plain": [
       "array([2, 0, 1])"
      ]
     },
     "execution_count": 57,
     "metadata": {},
     "output_type": "execute_result"
    }
   ],
   "source": [
    "test['Spending_Score']= label_encoder.fit_transform(test['Spending_Score'])\n",
    "test['Spending_Score'].unique()"
   ]
  },
  {
   "cell_type": "markdown",
   "id": "0aa6790f",
   "metadata": {},
   "source": [
    "### Scaling test data using MinMaxScaler"
   ]
  },
  {
   "cell_type": "code",
   "execution_count": 62,
   "id": "86392f81",
   "metadata": {},
   "outputs": [
    {
     "data": {
      "text/html": [
       "<div>\n",
       "<style scoped>\n",
       "    .dataframe tbody tr th:only-of-type {\n",
       "        vertical-align: middle;\n",
       "    }\n",
       "\n",
       "    .dataframe tbody tr th {\n",
       "        vertical-align: top;\n",
       "    }\n",
       "\n",
       "    .dataframe thead th {\n",
       "        text-align: right;\n",
       "    }\n",
       "</style>\n",
       "<table border=\"1\" class=\"dataframe\">\n",
       "  <thead>\n",
       "    <tr style=\"text-align: right;\">\n",
       "      <th></th>\n",
       "      <th>Ever_Married</th>\n",
       "      <th>Age</th>\n",
       "      <th>Graduated</th>\n",
       "      <th>Profession</th>\n",
       "      <th>Work_Experience</th>\n",
       "      <th>Spending_Score</th>\n",
       "      <th>Family_Size</th>\n",
       "      <th>Var_1</th>\n",
       "    </tr>\n",
       "  </thead>\n",
       "  <tbody>\n",
       "    <tr>\n",
       "      <th>0</th>\n",
       "      <td>1</td>\n",
       "      <td>22.0</td>\n",
       "      <td>1</td>\n",
       "      <td>2</td>\n",
       "      <td>0.000000</td>\n",
       "      <td>2</td>\n",
       "      <td>0.000</td>\n",
       "      <td>5</td>\n",
       "    </tr>\n",
       "    <tr>\n",
       "      <th>1</th>\n",
       "      <td>1</td>\n",
       "      <td>38.0</td>\n",
       "      <td>1</td>\n",
       "      <td>5</td>\n",
       "      <td>0.571429</td>\n",
       "      <td>0</td>\n",
       "      <td>0.375</td>\n",
       "      <td>5</td>\n",
       "    </tr>\n",
       "    <tr>\n",
       "      <th>2</th>\n",
       "      <td>1</td>\n",
       "      <td>67.0</td>\n",
       "      <td>0</td>\n",
       "      <td>0</td>\n",
       "      <td>0.000000</td>\n",
       "      <td>2</td>\n",
       "      <td>0.000</td>\n",
       "      <td>5</td>\n",
       "    </tr>\n",
       "    <tr>\n",
       "      <th>3</th>\n",
       "      <td>1</td>\n",
       "      <td>67.0</td>\n",
       "      <td>0</td>\n",
       "      <td>4</td>\n",
       "      <td>0.785714</td>\n",
       "      <td>1</td>\n",
       "      <td>0.125</td>\n",
       "      <td>5</td>\n",
       "    </tr>\n",
       "    <tr>\n",
       "      <th>4</th>\n",
       "      <td>0</td>\n",
       "      <td>40.0</td>\n",
       "      <td>0</td>\n",
       "      <td>8</td>\n",
       "      <td>0.182328</td>\n",
       "      <td>2</td>\n",
       "      <td>0.375</td>\n",
       "      <td>5</td>\n",
       "    </tr>\n",
       "    <tr>\n",
       "      <th>5</th>\n",
       "      <td>1</td>\n",
       "      <td>56.0</td>\n",
       "      <td>1</td>\n",
       "      <td>1</td>\n",
       "      <td>0.000000</td>\n",
       "      <td>1</td>\n",
       "      <td>0.500</td>\n",
       "      <td>3</td>\n",
       "    </tr>\n",
       "    <tr>\n",
       "      <th>6</th>\n",
       "      <td>1</td>\n",
       "      <td>32.0</td>\n",
       "      <td>1</td>\n",
       "      <td>1</td>\n",
       "      <td>0.357143</td>\n",
       "      <td>2</td>\n",
       "      <td>0.250</td>\n",
       "      <td>5</td>\n",
       "    </tr>\n",
       "    <tr>\n",
       "      <th>7</th>\n",
       "      <td>1</td>\n",
       "      <td>33.0</td>\n",
       "      <td>1</td>\n",
       "      <td>0</td>\n",
       "      <td>0.071429</td>\n",
       "      <td>0</td>\n",
       "      <td>0.250</td>\n",
       "      <td>5</td>\n",
       "    </tr>\n",
       "    <tr>\n",
       "      <th>8</th>\n",
       "      <td>1</td>\n",
       "      <td>61.0</td>\n",
       "      <td>1</td>\n",
       "      <td>0</td>\n",
       "      <td>0.142857</td>\n",
       "      <td>0</td>\n",
       "      <td>0.375</td>\n",
       "      <td>5</td>\n",
       "    </tr>\n",
       "    <tr>\n",
       "      <th>9</th>\n",
       "      <td>0</td>\n",
       "      <td>55.0</td>\n",
       "      <td>0</td>\n",
       "      <td>5</td>\n",
       "      <td>0.000000</td>\n",
       "      <td>2</td>\n",
       "      <td>0.375</td>\n",
       "      <td>5</td>\n",
       "    </tr>\n",
       "  </tbody>\n",
       "</table>\n",
       "</div>"
      ],
      "text/plain": [
       "   Ever_Married   Age  Graduated  Profession  Work_Experience  Spending_Score  \\\n",
       "0             1  22.0          1           2         0.000000               2   \n",
       "1             1  38.0          1           5         0.571429               0   \n",
       "2             1  67.0          0           0         0.000000               2   \n",
       "3             1  67.0          0           4         0.785714               1   \n",
       "4             0  40.0          0           8         0.182328               2   \n",
       "5             1  56.0          1           1         0.000000               1   \n",
       "6             1  32.0          1           1         0.357143               2   \n",
       "7             1  33.0          1           0         0.071429               0   \n",
       "8             1  61.0          1           0         0.142857               0   \n",
       "9             0  55.0          0           5         0.000000               2   \n",
       "\n",
       "   Family_Size  Var_1  \n",
       "0        0.000      5  \n",
       "1        0.375      5  \n",
       "2        0.000      5  \n",
       "3        0.125      5  \n",
       "4        0.375      5  \n",
       "5        0.500      3  \n",
       "6        0.250      5  \n",
       "7        0.250      5  \n",
       "8        0.375      5  \n",
       "9        0.375      5  "
      ]
     },
     "execution_count": 62,
     "metadata": {},
     "output_type": "execute_result"
    }
   ],
   "source": [
    "from sklearn.preprocessing import MinMaxScaler\n",
    "scaler = MinMaxScaler()\n",
    "columns_to_normalize = ['Work_Experience','Family_Size']\n",
    "\n",
    "test[columns_to_normalize] = scaler.fit_transform(test[columns_to_normalize])\n",
    "test.head(10)"
   ]
  },
  {
   "cell_type": "code",
   "execution_count": 67,
   "id": "0527f7a7",
   "metadata": {},
   "outputs": [
    {
     "data": {
      "text/plain": [
       "<matplotlib.collections.PathCollection at 0x160f6c646a0>"
      ]
     },
     "execution_count": 67,
     "metadata": {},
     "output_type": "execute_result"
    },
    {
     "data": {
      "image/png": "[encoded data removed]",
      "text/plain": [
       "<Figure size 720x720 with 1 Axes>"
      ]
     },
     "metadata": {
      "needs_background": "light"
     },
     "output_type": "display_data"
    }
   ],
   "source": [
    "pca = decomposition.PCA(n_components=2)\n",
    "X_reduced_test = pca.fit_transform(test.drop(columns=[\"Spending_Score\"]))\n",
    "\n",
    "f, ax  = plt.subplots(figsize = (10,10))\n",
    "\n",
    "kmeansmodel = KMeans(n_clusters= 3, init='k-means++',random_state=0)\n",
    "y_kmeans_test = kmeansmodel.fit_predict(X_reduced_test)\n",
    "    \n",
    "plt.scatter(X_reduced_test[:,0], X_reduced_test[:,1], c=y_kmeans_test, alpha=0.7, s=40)"
   ]
  },
  {
   "cell_type": "markdown",
   "id": "89a95ca1",
   "metadata": {},
   "source": [
    "### Hierarchical Clustering"
   ]
  },
  {
   "cell_type": "code",
   "execution_count": 77,
   "id": "4450ee79",
   "metadata": {},
   "outputs": [],
   "source": [
    "from scipy.cluster.hierarchy import cophenet,dendrogram,linkage\n",
    "from scipy.spatial.distance import pdist\n",
    "from scipy.stats import zscore"
   ]
  },
  {
   "cell_type": "code",
   "execution_count": 78,
   "id": "f8d13a0a",
   "metadata": {},
   "outputs": [
    {
     "data": {
      "text/html": [
       "<div>\n",
       "<style scoped>\n",
       "    .dataframe tbody tr th:only-of-type {\n",
       "        vertical-align: middle;\n",
       "    }\n",
       "\n",
       "    .dataframe tbody tr th {\n",
       "        vertical-align: top;\n",
       "    }\n",
       "\n",
       "    .dataframe thead th {\n",
       "        text-align: right;\n",
       "    }\n",
       "</style>\n",
       "<table border=\"1\" class=\"dataframe\">\n",
       "  <thead>\n",
       "    <tr style=\"text-align: right;\">\n",
       "      <th></th>\n",
       "      <th>Ever_Married</th>\n",
       "      <th>Age</th>\n",
       "      <th>Graduated</th>\n",
       "      <th>Profession</th>\n",
       "      <th>Work_Experience</th>\n",
       "      <th>Spending_Score</th>\n",
       "      <th>Family_Size</th>\n",
       "      <th>Var_1</th>\n",
       "    </tr>\n",
       "  </thead>\n",
       "  <tbody>\n",
       "    <tr>\n",
       "      <th>0</th>\n",
       "      <td>0.820517</td>\n",
       "      <td>-1.274509</td>\n",
       "      <td>0.784615</td>\n",
       "      <td>-0.306934</td>\n",
       "      <td>-8.065700e-01</td>\n",
       "      <td>0.738691</td>\n",
       "      <td>-1.202600</td>\n",
       "      <td>0.614978</td>\n",
       "    </tr>\n",
       "    <tr>\n",
       "      <th>1</th>\n",
       "      <td>0.820517</td>\n",
       "      <td>-0.307338</td>\n",
       "      <td>0.784615</td>\n",
       "      <td>0.853788</td>\n",
       "      <td>1.721281e+00</td>\n",
       "      <td>-1.633608</td>\n",
       "      <td>0.773867</td>\n",
       "      <td>0.614978</td>\n",
       "    </tr>\n",
       "    <tr>\n",
       "      <th>2</th>\n",
       "      <td>0.820517</td>\n",
       "      <td>1.445660</td>\n",
       "      <td>-1.274510</td>\n",
       "      <td>-1.080748</td>\n",
       "      <td>-8.065700e-01</td>\n",
       "      <td>0.738691</td>\n",
       "      <td>-1.202600</td>\n",
       "      <td>0.614978</td>\n",
       "    </tr>\n",
       "    <tr>\n",
       "      <th>3</th>\n",
       "      <td>0.820517</td>\n",
       "      <td>1.445660</td>\n",
       "      <td>-1.274510</td>\n",
       "      <td>0.466881</td>\n",
       "      <td>2.669225e+00</td>\n",
       "      <td>-0.447459</td>\n",
       "      <td>-0.543777</td>\n",
       "      <td>0.614978</td>\n",
       "    </tr>\n",
       "    <tr>\n",
       "      <th>4</th>\n",
       "      <td>-1.218744</td>\n",
       "      <td>-0.186441</td>\n",
       "      <td>-1.274510</td>\n",
       "      <td>2.014510</td>\n",
       "      <td>-1.227834e-16</td>\n",
       "      <td>0.738691</td>\n",
       "      <td>0.773867</td>\n",
       "      <td>0.614978</td>\n",
       "    </tr>\n",
       "    <tr>\n",
       "      <th>5</th>\n",
       "      <td>0.820517</td>\n",
       "      <td>0.780730</td>\n",
       "      <td>0.784615</td>\n",
       "      <td>-0.693841</td>\n",
       "      <td>-8.065700e-01</td>\n",
       "      <td>-0.447459</td>\n",
       "      <td>1.432690</td>\n",
       "      <td>-0.808411</td>\n",
       "    </tr>\n",
       "    <tr>\n",
       "      <th>6</th>\n",
       "      <td>0.820517</td>\n",
       "      <td>-0.670027</td>\n",
       "      <td>0.784615</td>\n",
       "      <td>-0.693841</td>\n",
       "      <td>7.733370e-01</td>\n",
       "      <td>0.738691</td>\n",
       "      <td>0.115045</td>\n",
       "      <td>0.614978</td>\n",
       "    </tr>\n",
       "    <tr>\n",
       "      <th>7</th>\n",
       "      <td>0.820517</td>\n",
       "      <td>-0.609579</td>\n",
       "      <td>0.784615</td>\n",
       "      <td>-1.080748</td>\n",
       "      <td>-4.905886e-01</td>\n",
       "      <td>-1.633608</td>\n",
       "      <td>0.115045</td>\n",
       "      <td>0.614978</td>\n",
       "    </tr>\n",
       "    <tr>\n",
       "      <th>8</th>\n",
       "      <td>0.820517</td>\n",
       "      <td>1.082970</td>\n",
       "      <td>0.784615</td>\n",
       "      <td>-1.080748</td>\n",
       "      <td>-1.746072e-01</td>\n",
       "      <td>-1.633608</td>\n",
       "      <td>0.773867</td>\n",
       "      <td>0.614978</td>\n",
       "    </tr>\n",
       "    <tr>\n",
       "      <th>9</th>\n",
       "      <td>-1.218744</td>\n",
       "      <td>0.720281</td>\n",
       "      <td>-1.274510</td>\n",
       "      <td>0.853788</td>\n",
       "      <td>-8.065700e-01</td>\n",
       "      <td>0.738691</td>\n",
       "      <td>0.773867</td>\n",
       "      <td>0.614978</td>\n",
       "    </tr>\n",
       "  </tbody>\n",
       "</table>\n",
       "</div>"
      ],
      "text/plain": [
       "   Ever_Married       Age  Graduated  Profession  Work_Experience  \\\n",
       "0      0.820517 -1.274509   0.784615   -0.306934    -8.065700e-01   \n",
       "1      0.820517 -0.307338   0.784615    0.853788     1.721281e+00   \n",
       "2      0.820517  1.445660  -1.274510   -1.080748    -8.065700e-01   \n",
       "3      0.820517  1.445660  -1.274510    0.466881     2.669225e+00   \n",
       "4     -1.218744 -0.186441  -1.274510    2.014510    -1.227834e-16   \n",
       "5      0.820517  0.780730   0.784615   -0.693841    -8.065700e-01   \n",
       "6      0.820517 -0.670027   0.784615   -0.693841     7.733370e-01   \n",
       "7      0.820517 -0.609579   0.784615   -1.080748    -4.905886e-01   \n",
       "8      0.820517  1.082970   0.784615   -1.080748    -1.746072e-01   \n",
       "9     -1.218744  0.720281  -1.274510    0.853788    -8.065700e-01   \n",
       "\n",
       "   Spending_Score  Family_Size     Var_1  \n",
       "0        0.738691    -1.202600  0.614978  \n",
       "1       -1.633608     0.773867  0.614978  \n",
       "2        0.738691    -1.202600  0.614978  \n",
       "3       -0.447459    -0.543777  0.614978  \n",
       "4        0.738691     0.773867  0.614978  \n",
       "5       -0.447459     1.432690 -0.808411  \n",
       "6        0.738691     0.115045  0.614978  \n",
       "7       -1.633608     0.115045  0.614978  \n",
       "8       -1.633608     0.773867  0.614978  \n",
       "9        0.738691     0.773867  0.614978  "
      ]
     },
     "execution_count": 78,
     "metadata": {},
     "output_type": "execute_result"
    }
   ],
   "source": [
    "dfScaled=test.apply(zscore)\n",
    "dfScaled.head(10)"
   ]
  },
  {
   "cell_type": "code",
   "execution_count": 84,
   "id": "b7fd50c3",
   "metadata": {},
   "outputs": [],
   "source": [
    "z = linkage(dfScaled,metric=\"euclidean\",method=\"single\")\n",
    "c,coph_dists=cophenet(z,pdist(dfScaled))"
   ]
  },
  {
   "cell_type": "code",
   "execution_count": 85,
   "id": "262b673e",
   "metadata": {},
   "outputs": [
    {
     "data": {
      "image/png": "[encoded data removed]",
      "text/plain": [
       "<Figure size 720x360 with 1 Axes>"
      ]
     },
     "metadata": {
      "needs_background": "light"
     },
     "output_type": "display_data"
    }
   ],
   "source": [
    "plt.figure(figsize=(10, 5))\n",
    "plt.title(\"Agglomerative Hierarchical Clustering Dendrogram\")\n",
    "plt.xlabel(\"Sample index\")\n",
    "plt.ylabel(\"Distance\")\n",
    "dendrogram(z,leaf_rotation=90.,color_threshold=90,leaf_font_size=10.,p=3,truncate_mode='level')\n",
    "plt.tight_layout()"
   ]
  },
  {
   "cell_type": "code",
   "execution_count": null,
   "id": "e300595b",
   "metadata": {},
   "outputs": [],
   "source": []
  }
 ],
 "metadata": {
  "kernelspec": {
   "display_name": "Python 3 (ipykernel)",
   "language": "python",
   "name": "python3"
  },
  "language_info": {
   "codemirror_mode": {
    "name": "ipython",
    "version": 3
   },
   "file_extension": ".py",
   "mimetype": "text/x-python",
   "name": "python",
   "nbconvert_exporter": "python",
   "pygments_lexer": "ipython3",
   "version": "3.9.7"
  }
 },
 "nbformat": 4,
 "nbformat_minor": 5
}
